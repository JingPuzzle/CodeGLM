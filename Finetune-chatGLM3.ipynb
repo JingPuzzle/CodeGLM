{
 "cells": [
  {
   "cell_type": "markdown",
   "metadata": {},
   "source": [
    "# Load Model"
   ]
  },
  {
   "cell_type": "code",
   "execution_count": null,
   "metadata": {
    "tags": []
   },
   "outputs": [],
   "source": [
    "from transformers import AutoTokenizer, AutoModel\n",
    "tokenizer = AutoTokenizer.from_pretrained(\"chatglm3-6b\", trust_remote_code=True)\n",
    "model = AutoModel.from_pretrained(\"chatglm3-6b\", trust_remote_code=True).half().cuda()\n",
    "print(model)"
   ]
  },
  {
   "cell_type": "markdown",
   "metadata": {},
   "source": [
    "# 处理数据集"
   ]
  },
  {
   "cell_type": "code",
   "execution_count": 1,
   "metadata": {
    "tags": []
   },
   "outputs": [
    {
     "data": {
      "text/html": [
       "<div>\n",
       "<style scoped>\n",
       "    .dataframe tbody tr th:only-of-type {\n",
       "        vertical-align: middle;\n",
       "    }\n",
       "\n",
       "    .dataframe tbody tr th {\n",
       "        vertical-align: top;\n",
       "    }\n",
       "\n",
       "    .dataframe thead th {\n",
       "        text-align: right;\n",
       "    }\n",
       "</style>\n",
       "<table border=\"1\" class=\"dataframe\">\n",
       "  <thead>\n",
       "    <tr style=\"text-align: right;\">\n",
       "      <th></th>\n",
       "      <th>instruction</th>\n",
       "      <th>input</th>\n",
       "      <th>output</th>\n",
       "    </tr>\n",
       "  </thead>\n",
       "  <tbody>\n",
       "    <tr>\n",
       "      <th>0</th>\n",
       "      <td>Use c++ to solve the following problems, and g...</td>\n",
       "      <td>Given an array of integers `nums` and an integ...</td>\n",
       "      <td>```cpp\\n#include &lt;vector&gt;\\n#include &lt;unordered...</td>\n",
       "    </tr>\n",
       "    <tr>\n",
       "      <th>1</th>\n",
       "      <td>Use java to solve the following problems, and ...</td>\n",
       "      <td>Given an array of integers `nums` and an integ...</td>\n",
       "      <td>```java\\nimport java.util.HashMap;\\nimport jav...</td>\n",
       "    </tr>\n",
       "    <tr>\n",
       "      <th>2</th>\n",
       "      <td>Use python to solve the following problems, an...</td>\n",
       "      <td>Given an array of integers `nums` and an integ...</td>\n",
       "      <td>```python\\ndef twoSum(nums, target):\\n    map ...</td>\n",
       "    </tr>\n",
       "    <tr>\n",
       "      <th>3</th>\n",
       "      <td>Use javascript to solve the following problems...</td>\n",
       "      <td>Given an array of integers `nums` and an integ...</td>\n",
       "      <td>```javascript\\nfunction twoSum(nums, target) {...</td>\n",
       "    </tr>\n",
       "    <tr>\n",
       "      <th>4</th>\n",
       "      <td>Use c++ to solve the following problems, and g...</td>\n",
       "      <td>You are given two **non-empty** linked lists r...</td>\n",
       "      <td>```cpp\\nstruct ListNode {\\n    int val;\\n    L...</td>\n",
       "    </tr>\n",
       "  </tbody>\n",
       "</table>\n",
       "</div>"
      ],
      "text/plain": [
       "                                         instruction  \\\n",
       "0  Use c++ to solve the following problems, and g...   \n",
       "1  Use java to solve the following problems, and ...   \n",
       "2  Use python to solve the following problems, an...   \n",
       "3  Use javascript to solve the following problems...   \n",
       "4  Use c++ to solve the following problems, and g...   \n",
       "\n",
       "                                               input  \\\n",
       "0  Given an array of integers `nums` and an integ...   \n",
       "1  Given an array of integers `nums` and an integ...   \n",
       "2  Given an array of integers `nums` and an integ...   \n",
       "3  Given an array of integers `nums` and an integ...   \n",
       "4  You are given two **non-empty** linked lists r...   \n",
       "\n",
       "                                              output  \n",
       "0  ```cpp\\n#include <vector>\\n#include <unordered...  \n",
       "1  ```java\\nimport java.util.HashMap;\\nimport jav...  \n",
       "2  ```python\\ndef twoSum(nums, target):\\n    map ...  \n",
       "3  ```javascript\\nfunction twoSum(nums, target) {...  \n",
       "4  ```cpp\\nstruct ListNode {\\n    int val;\\n    L...  "
      ]
     },
     "execution_count": 1,
     "metadata": {},
     "output_type": "execute_result"
    }
   ],
   "source": [
    "import pandas as pd\n",
    "import numpy as np\n",
    "import datasets\n",
    "\n",
    "# 数据加载1：leetcodesolutions_en_2k\n",
    "data1 = pd.read_parquet('leetcodesolutions_en_2k/data/train-00000-of-00001-cac5db6da43d45a6.parquet')\n",
    "data1.head()"
   ]
  },
  {
   "cell_type": "code",
   "execution_count": 2,
   "metadata": {
    "tags": []
   },
   "outputs": [
    {
     "data": {
      "text/html": [
       "<div>\n",
       "<style scoped>\n",
       "    .dataframe tbody tr th:only-of-type {\n",
       "        vertical-align: middle;\n",
       "    }\n",
       "\n",
       "    .dataframe tbody tr th {\n",
       "        vertical-align: top;\n",
       "    }\n",
       "\n",
       "    .dataframe thead th {\n",
       "        text-align: right;\n",
       "    }\n",
       "</style>\n",
       "<table border=\"1\" class=\"dataframe\">\n",
       "  <thead>\n",
       "    <tr style=\"text-align: right;\">\n",
       "      <th></th>\n",
       "      <th>name</th>\n",
       "      <th>problem</th>\n",
       "      <th>solution</th>\n",
       "    </tr>\n",
       "  </thead>\n",
       "  <tbody>\n",
       "    <tr>\n",
       "      <th>0</th>\n",
       "      <td>01串</td>\n",
       "      <td>给定一个仅包含 $0$ 或 $1$ 的字符串，现在可以对其进行一种操作：\\n当有两个相邻的字...</td>\n",
       "      <td>```cpp\\n#include&lt;bits/stdc++.h&gt;\\nusing namespa...</td>\n",
       "    </tr>\n",
       "    <tr>\n",
       "      <th>1</th>\n",
       "      <td>01背包问题</td>\n",
       "      <td>有 $N$ 件物品和一个容量是 $V$ 的背包。每件物品只能使用一次。\\n第 $i$ 件物品...</td>\n",
       "      <td>```cpp\\n#include&lt;bits/stdc++.h&gt;\\nusing namespa...</td>\n",
       "    </tr>\n",
       "    <tr>\n",
       "      <th>2</th>\n",
       "      <td>0到n-1中缺失的数字</td>\n",
       "      <td>一个长度为 $n-1$ 的递增排序数组中的所有数字都是唯一的，并且每个数字都在范围 $0$ ...</td>\n",
       "      <td>```cpp\\nclass Solution {\\npublic:\\n    int get...</td>\n",
       "    </tr>\n",
       "    <tr>\n",
       "      <th>3</th>\n",
       "      <td>1 的个数</td>\n",
       "      <td>给定一个数字 $N$，请你计算 $1 \\sim N$ 中一共出现了多少个数字 $1$。\\n例...</td>\n",
       "      <td>```cpp\\n#include &lt;iostream&gt;\\n#include &lt;vector&gt;...</td>\n",
       "    </tr>\n",
       "    <tr>\n",
       "      <th>4</th>\n",
       "      <td>2^k进制数</td>\n",
       "      <td>设 $r$ 是个 $2^k$ 进制数，并满足以下条件：\\n\\n$r$ 至少是个 $2$ 位的...</td>\n",
       "      <td>```cpp\\n#include &lt;bits/stdc++.h&gt;\\nusing namesp...</td>\n",
       "    </tr>\n",
       "  </tbody>\n",
       "</table>\n",
       "</div>"
      ],
      "text/plain": [
       "          name                                            problem  \\\n",
       "0          01串  给定一个仅包含 $0$ 或 $1$ 的字符串，现在可以对其进行一种操作：\\n当有两个相邻的字...   \n",
       "1       01背包问题  有 $N$ 件物品和一个容量是 $V$ 的背包。每件物品只能使用一次。\\n第 $i$ 件物品...   \n",
       "2  0到n-1中缺失的数字  一个长度为 $n-1$ 的递增排序数组中的所有数字都是唯一的，并且每个数字都在范围 $0$ ...   \n",
       "3        1 的个数  给定一个数字 $N$，请你计算 $1 \\sim N$ 中一共出现了多少个数字 $1$。\\n例...   \n",
       "4       2^k进制数  设 $r$ 是个 $2^k$ 进制数，并满足以下条件：\\n\\n$r$ 至少是个 $2$ 位的...   \n",
       "\n",
       "                                            solution  \n",
       "0  ```cpp\\n#include<bits/stdc++.h>\\nusing namespa...  \n",
       "1  ```cpp\\n#include<bits/stdc++.h>\\nusing namespa...  \n",
       "2  ```cpp\\nclass Solution {\\npublic:\\n    int get...  \n",
       "3  ```cpp\\n#include <iostream>\\n#include <vector>...  \n",
       "4  ```cpp\\n#include <bits/stdc++.h>\\nusing namesp...  "
      ]
     },
     "execution_count": 2,
     "metadata": {},
     "output_type": "execute_result"
    }
   ],
   "source": [
    "# 数据加载2：acwingSolutions_1k\n",
    "data2=pd.read_parquet('acwingSolutions_1k/data/acwingSolutions_1k.parquet')\n",
    "data2.head()"
   ]
  },
  {
   "cell_type": "code",
   "execution_count": 3,
   "metadata": {
    "tags": []
   },
   "outputs": [
    {
     "data": {
      "text/plain": [
       "array([\"for _ in range(input()):\\n    try:\\n        eval(raw_input())\\n        print 'YES'\\n    except TypeError:\\n        print 'YES'\\n    except:\\n        print 'NO'\",\n",
       "       'for _ in range(input()):\\n    ins = raw_input().strip()\\n    stck = []\\n    res = \"YES\"\\n    for x in ins:\\n        if x == \"(\":\\n            stck.append(x)\\n        else:\\n            if len(stck)>0:\\n                stck.pop()\\n            else:\\n                res = \"NO\"\\n                break\\n    if len(stck) > 0: res = \"NO\" \\n    print res',\n",
       "       \"for _ in range(input()):\\n    try: eval(raw_input()); print 'YES'\\n    except TypeError: print 'YES'\\n    except: print 'NO'\"],\n",
       "      dtype=object)"
      ]
     },
     "execution_count": 3,
     "metadata": {},
     "output_type": "execute_result"
    }
   ],
   "source": [
    "# 数据加载3：code_contests\n",
    "data3=pd.read_parquet('code_contests/data/train-00000-of-00039-e991a271dbfa9925.parquet')\n",
    "data3['solutions'][0]['solution']"
   ]
  },
  {
   "cell_type": "code",
   "execution_count": 4,
   "metadata": {
    "tags": []
   },
   "outputs": [
    {
     "name": "stdout",
     "output_type": "stream",
     "text": [
      "[Round 1]\n",
      "\n",
      "问：味道不太行 -> \n",
      "\n",
      "答：\n"
     ]
    }
   ],
   "source": [
    "\n",
    "def build_inputs(query, history):\n",
    "    prompt = \"\"\n",
    "    for i, (old_query, response) in enumerate(history):\n",
    "        prompt += \"[Round {}]\\n\\n问：{}\\n\\n答：{}\\n\\n\".format(i + 1, old_query, response)\n",
    "    prompt += \"[Round {}]\\n\\n问：{} -> \\n\\n答：\".format(len(history) + 1, query)\n",
    "    return prompt \n",
    "his=[]\n",
    "print(build_inputs('味道不太行',history=his))"
   ]
  },
  {
   "cell_type": "code",
   "execution_count": 5,
   "metadata": {
    "tags": []
   },
   "outputs": [
    {
     "data": {
      "text/html": [
       "<div>\n",
       "<style scoped>\n",
       "    .dataframe tbody tr th:only-of-type {\n",
       "        vertical-align: middle;\n",
       "    }\n",
       "\n",
       "    .dataframe tbody tr th {\n",
       "        vertical-align: top;\n",
       "    }\n",
       "\n",
       "    .dataframe thead th {\n",
       "        text-align: right;\n",
       "    }\n",
       "</style>\n",
       "<table border=\"1\" class=\"dataframe\">\n",
       "  <thead>\n",
       "    <tr style=\"text-align: right;\">\n",
       "      <th></th>\n",
       "      <th>context</th>\n",
       "      <th>target</th>\n",
       "    </tr>\n",
       "  </thead>\n",
       "  <tbody>\n",
       "    <tr>\n",
       "      <th>0</th>\n",
       "      <td>[Round 1]\\n\\n问：Use c++ to solve the following ...</td>\n",
       "      <td>```cpp\\n#include &lt;vector&gt;\\n#include &lt;unordered...</td>\n",
       "    </tr>\n",
       "    <tr>\n",
       "      <th>1</th>\n",
       "      <td>[Round 1]\\n\\n问：Use java to solve the following...</td>\n",
       "      <td>```java\\nimport java.util.HashMap;\\nimport jav...</td>\n",
       "    </tr>\n",
       "    <tr>\n",
       "      <th>2</th>\n",
       "      <td>[Round 1]\\n\\n问：Use python to solve the followi...</td>\n",
       "      <td>```python\\ndef twoSum(nums, target):\\n    map ...</td>\n",
       "    </tr>\n",
       "    <tr>\n",
       "      <th>3</th>\n",
       "      <td>[Round 1]\\n\\n问：Use javascript to solve the fol...</td>\n",
       "      <td>```javascript\\nfunction twoSum(nums, target) {...</td>\n",
       "    </tr>\n",
       "    <tr>\n",
       "      <th>4</th>\n",
       "      <td>[Round 1]\\n\\n问：Use c++ to solve the following ...</td>\n",
       "      <td>```cpp\\nstruct ListNode {\\n    int val;\\n    L...</td>\n",
       "    </tr>\n",
       "    <tr>\n",
       "      <th>...</th>\n",
       "      <td>...</td>\n",
       "      <td>...</td>\n",
       "    </tr>\n",
       "    <tr>\n",
       "      <th>3385</th>\n",
       "      <td>[Round 1]\\n\\n问：In the Land of Fire there are n...</td>\n",
       "      <td>#include &lt;bits/stdc++.h&gt;\\nusing namespace std;...</td>\n",
       "    </tr>\n",
       "    <tr>\n",
       "      <th>3386</th>\n",
       "      <td>[Round 1]\\n\\n问：You are given a matrix consisti...</td>\n",
       "      <td>I don't know how to solve this problem.</td>\n",
       "    </tr>\n",
       "    <tr>\n",
       "      <th>3387</th>\n",
       "      <td>[Round 1]\\n\\n问：You are given a string s consis...</td>\n",
       "      <td>#include &lt;bits/stdc++.h&gt;\\nusing namespace std;...</td>\n",
       "    </tr>\n",
       "    <tr>\n",
       "      <th>3388</th>\n",
       "      <td>[Round 1]\\n\\n问：A smile house is created to rai...</td>\n",
       "      <td>#include &lt;bits/stdc++.h&gt;\\nusing namespace std;...</td>\n",
       "    </tr>\n",
       "    <tr>\n",
       "      <th>3389</th>\n",
       "      <td>[Round 1]\\n\\n问：Consider an infinite triangle m...</td>\n",
       "      <td># include &lt;bits/stdc++.h&gt;\\n\\nusing namespace s...</td>\n",
       "    </tr>\n",
       "  </tbody>\n",
       "</table>\n",
       "<p>3390 rows × 2 columns</p>\n",
       "</div>"
      ],
      "text/plain": [
       "                                                context  \\\n",
       "0     [Round 1]\\n\\n问：Use c++ to solve the following ...   \n",
       "1     [Round 1]\\n\\n问：Use java to solve the following...   \n",
       "2     [Round 1]\\n\\n问：Use python to solve the followi...   \n",
       "3     [Round 1]\\n\\n问：Use javascript to solve the fol...   \n",
       "4     [Round 1]\\n\\n问：Use c++ to solve the following ...   \n",
       "...                                                 ...   \n",
       "3385  [Round 1]\\n\\n问：In the Land of Fire there are n...   \n",
       "3386  [Round 1]\\n\\n问：You are given a matrix consisti...   \n",
       "3387  [Round 1]\\n\\n问：You are given a string s consis...   \n",
       "3388  [Round 1]\\n\\n问：A smile house is created to rai...   \n",
       "3389  [Round 1]\\n\\n问：Consider an infinite triangle m...   \n",
       "\n",
       "                                                 target  \n",
       "0     ```cpp\\n#include <vector>\\n#include <unordered...  \n",
       "1     ```java\\nimport java.util.HashMap;\\nimport jav...  \n",
       "2     ```python\\ndef twoSum(nums, target):\\n    map ...  \n",
       "3     ```javascript\\nfunction twoSum(nums, target) {...  \n",
       "4     ```cpp\\nstruct ListNode {\\n    int val;\\n    L...  \n",
       "...                                                 ...  \n",
       "3385  #include <bits/stdc++.h>\\nusing namespace std;...  \n",
       "3386            I don't know how to solve this problem.  \n",
       "3387  #include <bits/stdc++.h>\\nusing namespace std;...  \n",
       "3388  #include <bits/stdc++.h>\\nusing namespace std;...  \n",
       "3389  # include <bits/stdc++.h>\\n\\nusing namespace s...  \n",
       "\n",
       "[3390 rows x 2 columns]"
      ]
     },
     "execution_count": 5,
     "metadata": {},
     "output_type": "execute_result"
    }
   ],
   "source": [
    "data1['context'] = [build_inputs(row['instruction']+row['input'],history=his) for index,row in data1.iterrows()]\n",
    "data1['target'] = [x for x in data1['output']]\n",
    "\n",
    "data2['context'] = [build_inputs(row['problem'],history=his) for index,row in data2.iterrows()]\n",
    "data2['target'] = [x for x in data2['solution']]\n",
    "\n",
    "data3['context'] = [build_inputs(row['description'],history=his) for index,row in data3.iterrows()]\n",
    "data3['target'] = [x['solution'][0]  if len(x['solution'])>0 else \"I don't know how to solve this problem.\" for x in data3['solutions']]\n",
    "\n",
    "df=pd.DataFrame()\n",
    "df =data1[['context','target']]\n",
    "df = pd.concat([df,data2[['context','target']]])\n",
    "df = pd.concat([df,data3[['context','target']]])\n",
    "df.reset_index(drop=True,inplace=True)\n",
    "df"
   ]
  },
  {
   "cell_type": "code",
   "execution_count": 6,
   "metadata": {
    "tags": []
   },
   "outputs": [],
   "source": [
    "from sklearn.model_selection import train_test_split\n",
    "df_train,df_test=train_test_split(df, test_size=0.2)\n",
    "\n",
    "ds_train = datasets.Dataset.from_pandas(df_train)\n",
    "ds_val = datasets.Dataset.from_pandas(df_test)"
   ]
  },
  {
   "cell_type": "code",
   "execution_count": 7,
   "metadata": {
    "tags": []
   },
   "outputs": [
    {
     "data": {
      "application/vnd.jupyter.widget-view+json": {
       "model_id": "d6c9359c91a949219b3d8b79e5e28d6c",
       "version_major": 2,
       "version_minor": 0
      },
      "text/plain": [
       "Map:   0%|          | 0/2712 [00:00<?, ? examples/s]"
      ]
     },
     "metadata": {},
     "output_type": "display_data"
    },
    {
     "data": {
      "application/vnd.jupyter.widget-view+json": {
       "model_id": "a00c1a4f099440f5b458e9e202b9f6fd",
       "version_major": 2,
       "version_minor": 0
      },
      "text/plain": [
       "Filter:   0%|          | 0/2712 [00:00<?, ? examples/s]"
      ]
     },
     "metadata": {},
     "output_type": "display_data"
    },
    {
     "data": {
      "application/vnd.jupyter.widget-view+json": {
       "model_id": "d739b4e1ac0149a0ac91779000b815cc",
       "version_major": 2,
       "version_minor": 0
      },
      "text/plain": [
       "Map:   0%|          | 0/678 [00:00<?, ? examples/s]"
      ]
     },
     "metadata": {},
     "output_type": "display_data"
    },
    {
     "data": {
      "application/vnd.jupyter.widget-view+json": {
       "model_id": "2bcedac01265402c9f3918702ce20f1d",
       "version_major": 2,
       "version_minor": 0
      },
      "text/plain": [
       "Filter:   0%|          | 0/678 [00:00<?, ? examples/s]"
      ]
     },
     "metadata": {},
     "output_type": "display_data"
    }
   ],
   "source": [
    "from tqdm import tqdm\n",
    "import transformers\n",
    "\n",
    "#token编码\n",
    "model_name=\"chatglm3-6b\"\n",
    "max_seq_length=1000\n",
    "skip_over_length=True\n",
    "\n",
    "\n",
    "tokenizer = transformers.AutoTokenizer.from_pretrained(\n",
    "    model_name, trust_remote_code=True)\n",
    "\n",
    "config = transformers.AutoConfig.from_pretrained(\n",
    "    model_name, trust_remote_code=True, device_map='auto')\n",
    "\n",
    "def preprocess(example):\n",
    "    context=example[\"context\"]\n",
    "    target=example[\"target\"]\n",
    "    \n",
    "    context_ids = tokenizer.encode(\n",
    "        context, \n",
    "        max_length=max_seq_length,\n",
    "        truncation=True)\n",
    "    \n",
    "    target_ids = tokenizer.encode(\n",
    "        target,\n",
    "        max_length=max_seq_length,\n",
    "        truncation=True,\n",
    "        add_special_tokens=False)\n",
    "    \n",
    "    input_ids = context_ids + target_ids + [config.eos_token_id]\n",
    "    \n",
    "    return {\"input_ids\": input_ids, \"context_len\": len(context_ids),'target_len':len(target_ids)}\n",
    "\n",
    "ds_train_token = ds_train.map(preprocess).select_columns(['input_ids', 'context_len','target_len'])\n",
    "if skip_over_length:\n",
    "    ds_train_token = ds_train_token.filter(\n",
    "        lambda example: example[\"context_len\"]<max_seq_length and example[\"target_len\"]<max_seq_length)\n",
    "\n",
    "ds_val_token = ds_val.map(preprocess).select_columns(['input_ids', 'context_len','target_len'])\n",
    "if skip_over_length:\n",
    "    ds_val_token = ds_val_token.filter(\n",
    "        lambda example: example[\"context_len\"]<max_seq_length and example[\"target_len\"]<max_seq_length)"
   ]
  },
  {
   "cell_type": "code",
   "execution_count": 8,
   "metadata": {
    "tags": []
   },
   "outputs": [],
   "source": [
    "# 管道构建\n",
    "import torch\n",
    "\n",
    "def data_collator(features:list):\n",
    "    len_ids = [len(feature[\"input_ids\"]) for feature in features]\n",
    "    longest = max(len_ids) #之后按照batch中最长的input_ids进行padding\n",
    "    \n",
    "    input_ids = []\n",
    "    labels_list = []\n",
    "    \n",
    "    for length, feature in sorted(zip(len_ids, features), key=lambda x: -x[0]):\n",
    "        ids = feature[\"input_ids\"]\n",
    "        context_len = feature[\"context_len\"]\n",
    "        \n",
    "        labels = (\n",
    "            [-100] * (context_len - 1) + ids[(context_len - 1) :] + [-100] * (longest - length)\n",
    "        ) #-100标志位后面会在计算loss时会被忽略不贡献损失，我们集中优化target部分生成的loss\n",
    "        \n",
    "        ids = ids + [tokenizer.pad_token_id] * (longest - length)\n",
    "        \n",
    "        input_ids.append(torch.LongTensor(ids))\n",
    "        labels_list.append(torch.LongTensor(labels))\n",
    "        \n",
    "        \n",
    "    input_ids = torch.stack(input_ids)\n",
    "    labels = torch.stack(labels_list)\n",
    "    return {\n",
    "        \"input_ids\": input_ids,\n",
    "        \"labels\": labels,\n",
    "    }\n",
    "\n",
    "dl_train = torch.utils.data.DataLoader(ds_train_token,num_workers=2,batch_size=2,\n",
    "                                       pin_memory=True,shuffle=True,\n",
    "                                       collate_fn = data_collator)\n",
    "dl_val = torch.utils.data.DataLoader(ds_val_token,num_workers=2,batch_size=2,\n",
    "                                    pin_memory=True,shuffle=True,\n",
    "                                     collate_fn = data_collator)\n",
    "\n",
    "\n",
    "for batch in dl_train:\n",
    "    break \n",
    "    \n",
    "\n",
    "dl_train.size = 300 \n"
   ]
  },
  {
   "cell_type": "markdown",
   "metadata": {},
   "source": [
    "# 定义lora模型"
   ]
  },
  {
   "cell_type": "code",
   "execution_count": 9,
   "metadata": {
    "tags": []
   },
   "outputs": [
    {
     "data": {
      "application/vnd.jupyter.widget-view+json": {
       "model_id": "fa21a0834a0a40c5acac9932a20c3669",
       "version_major": 2,
       "version_minor": 0
      },
      "text/plain": [
       "Loading checkpoint shards:   0%|          | 0/7 [00:00<?, ?it/s]"
      ]
     },
     "metadata": {},
     "output_type": "display_data"
    },
    {
     "name": "stderr",
     "output_type": "stream",
     "text": [
      "You are using an old version of the checkpointing format that is deprecated (We will also silently ignore `gradient_checkpointing_kwargs` in case you passed it).Please update to the new format on your modeling file. To use the new format, you need to completely remove the definition of the method `_set_gradient_checkpointing` in your model.\n"
     ]
    },
    {
     "name": "stdout",
     "output_type": "stream",
     "text": [
      "trainable params: 1,949,696 || all params: 6,245,533,696 || trainable%: 0.031217444255383614\n"
     ]
    }
   ],
   "source": [
    "import warnings\n",
    "warnings.filterwarnings(\"ignore\")\n",
    "\n",
    "from transformers import AutoTokenizer, AutoModel, TrainingArguments, AutoConfig\n",
    "import torch\n",
    "import torch.nn as nn\n",
    "from peft import get_peft_model, LoraConfig, TaskType\n",
    "\n",
    "model = AutoModel.from_pretrained(\"chatglm3-6b\",\n",
    "                                  load_in_8bit=False, \n",
    "                                  trust_remote_code=True, \n",
    "                                  device_map='auto')\n",
    "\n",
    "model.supports_gradient_checkpointing = True # 节约cuda\n",
    "model.gradient_checkpointing_enable()\n",
    "model.enable_input_require_grads()\n",
    "\n",
    "model.config.use_cache = False\n",
    "\n",
    "peft_config = LoraConfig(\n",
    "    task_type=TaskType.CAUSAL_LM,\n",
    "    inference_mode=False,\n",
    "    r=8,\n",
    "    lora_alpha=32,\n",
    "    lora_dropout=0.1\n",
    ")\n",
    "\n",
    "model = get_peft_model(model, peft_config)\n",
    "model.is_parallelizable = True\n",
    "model.model_parallel = True\n",
    "model.print_trainable_parameters()"
   ]
  },
  {
   "cell_type": "markdown",
   "metadata": {},
   "source": [
    "# 训练模型"
   ]
  },
  {
   "cell_type": "code",
   "execution_count": null,
   "metadata": {
    "tags": []
   },
   "outputs": [
    {
     "name": "stdout",
     "output_type": "stream",
     "text": [
      "\u001b[0;31m<<<<<< ⚡️ cuda is used >>>>>>\u001b[0m\n"
     ]
    },
    {
     "data": {
      "image/png": "[encoded data removed]",
      "text/plain": [
       "<Figure size 600x400 with 1 Axes>"
      ]
     },
     "metadata": {},
     "output_type": "display_data"
    },
    {
     "data": {
      "text/html": [
       "\n",
       "<style>\n",
       "    /* background: */\n",
       "    progress::-webkit-progress-bar {background-color: #CDCDCD; width: 100%;}\n",
       "    progress {background-color: #CDCDCD;}\n",
       "\n",
       "    /* value: */\n",
       "    progress::-webkit-progress-value {background-color: #00BFFF  !important;}\n",
       "    progress::-moz-progress-bar {background-color: #00BFFF  !important;}\n",
       "    progress {color: #00BFFF ;}\n",
       "\n",
       "    /* optional */\n",
       "    .progress-bar-interrupted, .progress-bar-interrupted::-webkit-progress-bar {\n",
       "        background: #000000;\n",
       "    }\n",
       "</style>\n"
      ],
      "text/plain": [
       "<IPython.core.display.HTML object>"
      ]
     },
     "metadata": {},
     "output_type": "display_data"
    },
    {
     "data": {
      "text/html": [
       "\n",
       "    <div>\n",
       "      <progress value='3' class='' max='100' style='width:300px; height:20px; vertical-align: middle;'></progress>\n",
       "      3.00% [3/100] [12:12<6:34:53]\n",
       "      <br>\n",
       "      ███████████████████▋98.67% [296/300] [train_loss=1.0059, lr=2.0000e-06]\n",
       "    </div>\n",
       "    "
      ],
      "text/plain": [
       "<IPython.core.display.HTML object>"
      ]
     },
     "metadata": {},
     "output_type": "display_data"
    }
   ],
   "source": [
    "from torchkeras import KerasModel\n",
    "from accelerate import Accelerator\n",
    "\n",
    "class StepRunner:\n",
    "    def __init__(self, net, loss_fn, accelerator=None, stage = \"train\", metrics_dict = None, \n",
    "                 optimizer = None, lr_scheduler = None\n",
    "                 ):\n",
    "        self.net,self.loss_fn,self.metrics_dict,self.stage = net,loss_fn,metrics_dict,stage\n",
    "        self.optimizer,self.lr_scheduler = optimizer,lr_scheduler\n",
    "        self.accelerator = accelerator if accelerator is not None else Accelerator() \n",
    "        if self.stage=='train':\n",
    "            self.net.train() \n",
    "        else:\n",
    "            self.net.eval()\n",
    "            \n",
    "    def __call__(self, batch):\n",
    "        \n",
    "        # loss\n",
    "        with self.accelerator.autocast():\n",
    "            loss=self.net(input_ids=batch[\"input_ids\"],labels=batch[\"labels\"]).loss\n",
    "        \n",
    "        # backward()\n",
    "        if self.optimizer is not None and self.stage==\"train\":\n",
    "            self.accelerator.backward(loss)\n",
    "            if self.accelerator.sync_gradients:\n",
    "                self.accelerator.clip_grad_norm_(self.net.parameters(), 1.0)\n",
    "            self.optimizer.step()\n",
    "            if self.lr_scheduler is not None:\n",
    "                self.lr_scheduler.step()\n",
    "            self.optimizer.zero_grad()\n",
    "        \n",
    "        all_loss = self.accelerator.gather(loss).sum()\n",
    "        \n",
    "        #losses (or plain metrics that can be averaged)\n",
    "        step_losses = {self.stage+\"_loss\":all_loss.item()}\n",
    "        \n",
    "        #metrics (stateful metrics)\n",
    "        step_metrics = {}\n",
    "        \n",
    "        if self.stage==\"train\":\n",
    "            if self.optimizer is not None:\n",
    "                step_metrics['lr'] = self.optimizer.state_dict()['param_groups'][0]['lr']\n",
    "            else:\n",
    "                step_metrics['lr'] = 0.0\n",
    "        return step_losses,step_metrics\n",
    "\n",
    "KerasModel.StepRunner = StepRunner\n",
    "\n",
    "\n",
    "# 仅保存lora可训练参数\n",
    "def save_ckpt(self,ckpt_path='checkpoint.pt', accelerator = None):\n",
    "    unwrap_net = accelerator.unwrap_model(self.net)\n",
    "    unwrap_net.save_pretrained(ckpt_path)\n",
    "    \n",
    "def load_ckpt(self, ckpt_path='checkpoint.pt'):\n",
    "    self.net = self.net.from_pretrained(self.net, ckpt_path)\n",
    "    self.from_scratch = False\n",
    "    \n",
    "KerasModel.save_ckpt = save_ckpt\n",
    "KerasModel.load_ckpt = load_ckpt\n",
    "\n",
    "\n",
    "keras_model = KerasModel(model,loss_fn = None, optimizer=torch.optim.AdamW(model.parameters(), lr=2e-6))\n",
    "ckpt_path = \"CodeGLM\"\n",
    "\n",
    "keras_model.fit(train_data = dl_train,\n",
    "                val_data = dl_val,\n",
    "                epochs = 100,\n",
    "                patience = 5,\n",
    "                monitor = 'val_loss',\n",
    "                mode = 'min',\n",
    "                ckpt_path = ckpt_path,\n",
    "                mixed_precision='fp16'\n",
    "               )"
   ]
  },
  {
   "cell_type": "markdown",
   "metadata": {},
   "source": [
    "# 验证模型"
   ]
  },
  {
   "cell_type": "code",
   "execution_count": null,
   "metadata": {
    "tags": []
   },
   "outputs": [],
   "source": [
    "from peft import PeftModel\n",
    "model = AutoModel.from_pretrained(\"chatglm3-6b\",\n",
    "                                  load_in_8bit=False, \n",
    "                                  trust_remote_code=True, \n",
    "                                  device_map='auto')\n",
    "model = PeftModel.from_pretrained(model,ckpt_path)\n",
    "model = model.merge_and_unload() #合并lora权重\n",
    "\n",
    "def predict(text,temperator=0.01):  # temperator设置的越大，输出的随机性就越大\n",
    "    response, history = model.chat(tokenizer, f\"{text} -> \", history=his,\n",
    "    temperature=temperator)\n",
    "    return response \n",
    "    \n",
    "predict('Write a decision tree.')"
   ]
  },
  {
   "cell_type": "markdown",
   "metadata": {},
   "source": [
    "# 保存模型"
   ]
  },
  {
   "cell_type": "code",
   "execution_count": null,
   "metadata": {
    "tags": []
   },
   "outputs": [],
   "source": [
    "model.save_pretrained(\"CodeGLM_model\", max_shard_size='1GB')\n",
    "\n",
    "tokenizer.save_pretrained(\"CodeGLM_model\")"
   ]
  },
  {
   "cell_type": "code",
   "execution_count": null,
   "metadata": {},
   "outputs": [],
   "source": []
  }
 ],
 "metadata": {
  "kernelspec": {
   "display_name": "Python 3 (ipykernel)",
   "language": "python",
   "name": "python3"
  },
  "language_info": {
   "codemirror_mode": {
    "name": "ipython",
    "version": 3
   },
   "file_extension": ".py",
   "mimetype": "text/x-python",
   "name": "python",
   "nbconvert_exporter": "python",
   "pygments_lexer": "ipython3",
   "version": "3.8.10"
  },
  "vscode": {
   "interpreter": {
    "hash": "2bdab5229242a6272609b0d9ef4d6edb3a499f32c406e5e7244481f5fe9f2983"
   }
  }
 },
 "nbformat": 4,
 "nbformat_minor": 4
}
