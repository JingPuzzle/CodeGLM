{
 "cells": [
  {
   "cell_type": "markdown",
   "id": "9d05e61e-a882-4214-adb0-2c98c52c21d4",
   "metadata": {},
   "source": [
    "# 使用CodeGLM"
   ]
  },
  {
   "cell_type": "code",
   "execution_count": 1,
   "id": "d67b15dc-284f-419b-b2e3-141742182e2b",
   "metadata": {
    "tags": []
   },
   "outputs": [
    {
     "data": {
      "application/vnd.jupyter.widget-view+json": {
       "model_id": "ca6c54009f8d48989fb3b5d3fad86194",
       "version_major": 2,
       "version_minor": 0
      },
      "text/plain": [
       "Loading checkpoint shards:   0%|          | 0/7 [00:00<?, ?it/s]"
      ]
     },
     "metadata": {},
     "output_type": "display_data"
    }
   ],
   "source": [
    "from transformers import AutoTokenizer, AutoModel\n",
    "from peft import PeftModel\n",
    "ckpt_path = \"CodeGLM\"\n",
    "tokenizer = AutoTokenizer.from_pretrained(\"chatglm3-6b\", trust_remote_code=True)\n",
    "model = AutoModel.from_pretrained(\"chatglm3-6b\",\n",
    "                                  load_in_8bit=False, \n",
    "                                  trust_remote_code=True, \n",
    "                                  device_map='auto')\n",
    "model = PeftModel.from_pretrained(model,ckpt_path)\n",
    "model = model.merge_and_unload() #合并lora权重\n",
    "\n",
    "his=[]\n",
    "def predict(text,temperator=0.01):  # temperator设置的越大，输出的随机性就越大\n",
    "    response, history = model.chat(tokenizer, f\"{text} -> \", history=his,\n",
    "    temperature=temperator)\n",
    "    return response "
   ]
  },
  {
   "cell_type": "code",
   "execution_count": 3,
   "id": "bf073373-0706-473e-8143-2ce036e34d3c",
   "metadata": {
    "tags": []
   },
   "outputs": [
    {
     "name": "stdout",
     "output_type": "stream",
     "text": [
      "```cpp\n",
      "#include <iostream>\n",
      "#include <string>\n",
      "\n",
      "using namespace std;\n",
      "\n",
      "int main() {\n",
      "    string str;\n",
      "    cin >> str;\n",
      "    int count = 0;\n",
      "    for (char c : str) {\n",
      "        if (islower(c)) {\n",
      "            count++;\n",
      "        }\n",
      "    }\n",
      "    cout << count << endl;\n",
      "    return 0;\n",
      "}\n",
      "```\n"
     ]
    }
   ],
   "source": [
    "with open(\"../data/137/小写字母数量.txt\",'r', encoding='utf-8') as file:\n",
    "    print(predict(file.read()))\n"
   ]
  },
  {
   "cell_type": "code",
   "execution_count": 1,
   "id": "0b562d58-7df4-49c0-9d1f-faa3c99a4754",
   "metadata": {
    "tags": []
   },
   "outputs": [
    {
     "data": {
      "application/vnd.jupyter.widget-view+json": {
       "model_id": "8d03623d9f044cc88decefd4bba3402e",
       "version_major": 2,
       "version_minor": 0
      },
      "text/plain": [
       "Loading checkpoint shards:   0%|          | 0/7 [00:00<?, ?it/s]"
      ]
     },
     "metadata": {},
     "output_type": "display_data"
    },
    {
     "name": "stdout",
     "output_type": "stream",
     "text": [
      "解题思路:\n",
      "\n",
      "这道题可以用一个简单的循环来实现。我们可以遍历字符串中的每个字符,判断它是否为小写字母,如果是就计数器加一。最后输出计数器的值即可。\n",
      "\n",
      "具体实现:\n",
      "\n",
      "```python\n",
      "def count_lowercase(s):\n",
      "    count = 0\n",
      "    for c in s:\n",
      "        if c.islower():\n",
      "            count += 1\n",
      "    return count\n",
      "```\n",
      "\n",
      "这个函数接受一个字符串参数 `s`,然后用一个循环遍历字符串中的每个字符。如果当前字符是一个小写字母,计数器 `count` 就被加一。最后,函数返回计数器的值。\n",
      "\n",
      "这个函数的复杂度是 $O(n)$,其中 $n$ 是字符串的长度。因为我们需要遍历字符串中的每个字符,所以时间复杂度与字符串的长度成正比。\n"
     ]
    }
   ],
   "source": [
    "from transformers import AutoTokenizer, AutoModel\n",
    "tokenizer = AutoTokenizer.from_pretrained(\"chatglm3-6b\", trust_remote_code=True)\n",
    "model = AutoModel.from_pretrained(\"chatglm3-6b\", trust_remote_code=True).half().cuda()\n",
    "\n",
    "with open(\"../data/137/小写字母数量.txt\",'r', encoding='utf-8') as file:\n",
    "    response, his = model.chat(tokenizer, file.read(), history=[])\n",
    "print(response)\n"
   ]
  },
  {
   "cell_type": "code",
   "execution_count": 2,
   "id": "779d1d6a-e815-49d7-a0b3-0f5fb962cecb",
   "metadata": {},
   "outputs": [
    {
     "name": "stdout",
     "output_type": "stream",
     "text": [
      "def count_lowercase(s):\n",
      "    count = 0\n",
      "    for char in s:\n",
      "        if char.islower():\n",
      "            count += 1\n",
      "    return count\n",
      "\n",
      "s = input()\n",
      "print(count_lowercase(s))\n"
     ]
    }
   ],
   "source": [
    "with open(\"../data/137/小写字母数量.txt\",'r', encoding='utf-8') as file:\n",
    "    response, his = model.chat(tokenizer, file.read(), history=[])\n",
    "print(response)"
   ]
  },
  {
   "cell_type": "code",
   "execution_count": null,
   "id": "c96a4174-520e-4174-b922-9bd20dada71a",
   "metadata": {},
   "outputs": [],
   "source": []
  }
 ],
 "metadata": {
  "kernelspec": {
   "display_name": "Python 3 (ipykernel)",
   "language": "python",
   "name": "python3"
  },
  "language_info": {
   "codemirror_mode": {
    "name": "ipython",
    "version": 3
   },
   "file_extension": ".py",
   "mimetype": "text/x-python",
   "name": "python",
   "nbconvert_exporter": "python",
   "pygments_lexer": "ipython3",
   "version": "3.8.10"
  }
 },
 "nbformat": 4,
 "nbformat_minor": 5
}
